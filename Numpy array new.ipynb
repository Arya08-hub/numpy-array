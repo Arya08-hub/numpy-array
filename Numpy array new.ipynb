{
 "cells": [
  {
   "cell_type": "code",
   "execution_count": 3,
   "id": "3c92174b-c8cf-45bc-9167-6c927e6af5fc",
   "metadata": {},
   "outputs": [
    {
     "ename": "IndentationError",
     "evalue": "unexpected indent (3105621844.py, line 8)",
     "output_type": "error",
     "traceback": [
      "\u001b[0;36m  Cell \u001b[0;32mIn[3], line 8\u001b[0;36m\u001b[0m\n\u001b[0;31m    Exercise 3: Create a Pandas series and add a new item\u001b[0m\n\u001b[0m    ^\u001b[0m\n\u001b[0;31mIndentationError\u001b[0m\u001b[0;31m:\u001b[0m unexpected indent\n"
     ]
    }
   ],
   "source": [
    "import numpy as np\n",
    "import pandas as pd\n",
    "arr1 = np.arange(1, 11).reshape(2, 5)\n",
    "print(\"Exercise 1:\\n\", arr1)\n",
    "arr2 = np.arange(1, 21)\n",
    "extracted_elements = arr2[5:16]\n",
    "print(\"\\nExercise 2:\\n\", extracted_elements)\n",
    " Exercise 3: Create a Pandas series and add a new item\n",
    "series = pd.Series({'apples': 3, 'bananas': 2, 'oranges': 1})\n",
    "series['pears'] = 4\n",
    "print(\"\\nExercise 3:\\n\", series)\n",
    "\n",
    "# Exercise 4: Create a dataframe with columns: name, age, gender\n",
    "data = {\n",
    "    'name': ['Alice', 'Bob', 'Charlie', 'David', 'Eve', 'Frank', 'Grace', 'Hannah', 'Ian', 'Jack'],\n",
    "    'age': [25, 32, 28, 45, 39, 22, 41, 30, 26, 50],\n",
    "    'gender': ['F', 'M', 'M', 'M', 'F', 'M', 'F', 'F', 'M', 'M']\n",
    "}\n",
    "df = pd.DataFrame(data)\n",
    "print(\"\\nExercise 4:\\n\", df)\n",
    "\n",
    "# Exercise 5: Add an occupation column\n",
    "df['occupation'] = ['Programmer', 'Manager', 'Analyst', 'Programmer', 'Manager', \n",
    "                    'Analyst', 'Programmer', 'Manager', 'Analyst', 'Programmer']\n",
    "print(\"\\nExercise 5:\\n\", df)\n",
    "\n",
    "# Exercise 6: Select rows where age is >= 30\n",
    "df_filtered = df[df['age'] >= 30]\n",
    "print(\"\\nExercise 6:\\n\", df_filtered)\n",
    "\n",
    "# Exercise 7: Save dataframe to CSV and read it back\n",
    "csv_file_path = \"dataframe.csv\"\n",
    "df.to_csv(csv_file_path, index=False)\n",
    "\n",
    "df_read = pd.read_csv(csv_file_path)\n",
    "print(\"\\nExercise 7:\\n\", df_read)\n",
    "\n"
   ]
  },
  {
   "cell_type": "code",
   "execution_count": null,
   "id": "eefeb162-0afa-4125-b5a3-6cdf0224776f",
   "metadata": {},
   "outputs": [],
   "source": [
    "[[ 1  2  3  4  5]\n",
    " [ 6  7  8  9 10]]"
   ]
  },
  {
   "cell_type": "code",
   "execution_count": null,
   "id": "e1ad0ff4-af71-4757-951e-ea0a21d45787",
   "metadata": {},
   "outputs": [],
   "source": [
    "[ 6  7  8  9 10 11 12 13 14 15 16]"
   ]
  },
  {
   "cell_type": "code",
   "execution_count": null,
   "id": "2dddb806-06a9-4375-8c66-777d7e4accb9",
   "metadata": {},
   "outputs": [],
   "source": [
    "apples     3\n",
    "bananas    2\n",
    "oranges    1\n",
    "pears      4\n",
    "dtype: int64"
   ]
  },
  {
   "cell_type": "code",
   "execution_count": 9,
   "id": "6adb0578-9a27-4905-9fd6-3b6423946c7a",
   "metadata": {},
   "outputs": [
    {
     "ename": "SyntaxError",
     "evalue": "invalid syntax (3613066023.py, line 1)",
     "output_type": "error",
     "traceback": [
      "\u001b[0;36m  Cell \u001b[0;32mIn[9], line 1\u001b[0;36m\u001b[0m\n\u001b[0;31m    name     age  gender  occupation\u001b[0m\n\u001b[0m             ^\u001b[0m\n\u001b[0;31mSyntaxError\u001b[0m\u001b[0;31m:\u001b[0m invalid syntax\n"
     ]
    }
   ],
   "source": [
    "     name     age  gender  occupation\n",
    "0   Person1   25    Male  Programmer\n",
    "1   Person2   28  Female     Manager\n",
    "2   Person3   27    Male     Analyst\n",
    "3   Person4   38  Female  Programmer\n",
    "4   Person5   34    Male     Manager\n",
    "5   Person6   35  Female     Analyst\n",
    "6   Person7   20    Male  Programmer\n",
    "7   Person8   47  Female     Manager\n",
    "8   Person9   39    Male     Analyst\n",
    "9  Person10   46  Female  Programmer"
   ]
  },
  {
   "cell_type": "code",
   "execution_count": null,
   "id": "fe5ad636-2b11-4667-b715-a7ab8d02b4cf",
   "metadata": {},
   "outputs": [],
   "source": [
    "name  age  gender  occupation\n",
    "3   Person4   38  Female  Programmer\n",
    "4   Person5   34    Male     Manager\n",
    "5   Person6   35  Female     Analyst\n",
    "7   Person8   47  Female     Manager\n",
    "8   Person9   39    Male     Analyst\n",
    "9  Person10   46  Female  Programmer"
   ]
  }
 ],
 "metadata": {
  "kernelspec": {
   "display_name": "anaconda-panel-2023.05-py310",
   "language": "python",
   "name": "conda-env-anaconda-panel-2023.05-py310-py"
  },
  "language_info": {
   "codemirror_mode": {
    "name": "ipython",
    "version": 3
   },
   "file_extension": ".py",
   "mimetype": "text/x-python",
   "name": "python",
   "nbconvert_exporter": "python",
   "pygments_lexer": "ipython3",
   "version": "3.11.5"
  }
 },
 "nbformat": 4,
 "nbformat_minor": 5
}
