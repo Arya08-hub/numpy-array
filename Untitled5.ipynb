{
 "cells": [
  {
   "cell_type": "code",
   "execution_count": null,
   "id": "eefeb162-0afa-4125-b5a3-6cdf0224776f",
   "metadata": {},
   "outputs": [],
   "source": [
    "[[ 1  2  3  4  5]\n",
    " [ 6  7  8  9 10]]"
   ]
  },
  {
   "cell_type": "code",
   "execution_count": null,
   "id": "e1ad0ff4-af71-4757-951e-ea0a21d45787",
   "metadata": {},
   "outputs": [],
   "source": [
    "[ 6  7  8  9 10 11 12 13 14 15 16]"
   ]
  },
  {
   "cell_type": "code",
   "execution_count": null,
   "id": "2dddb806-06a9-4375-8c66-777d7e4accb9",
   "metadata": {},
   "outputs": [],
   "source": [
    "apples     3\n",
    "bananas    2\n",
    "oranges    1\n",
    "pears      4\n",
    "dtype: int64"
   ]
  },
  {
   "cell_type": "code",
   "execution_count": null,
   "id": "6adb0578-9a27-4905-9fd6-3b6423946c7a",
   "metadata": {},
   "outputs": [],
   "source": [
    "name  age  gender  occupation\n",
    "0   Person1   25    Male  Programmer\n",
    "1   Person2   28  Female     Manager\n",
    "2   Person3   27    Male     Analyst\n",
    "3   Person4   38  Female  Programmer\n",
    "4   Person5   34    Male     Manager\n",
    "5   Person6   35  Female     Analyst\n",
    "6   Person7   20    Male  Programmer\n",
    "7   Person8   47  Female     Manager\n",
    "8   Person9   39    Male     Analyst\n",
    "9  Person10   46  Female  Programmer"
   ]
  },
  {
   "cell_type": "code",
   "execution_count": null,
   "id": "fe5ad636-2b11-4667-b715-a7ab8d02b4cf",
   "metadata": {},
   "outputs": [],
   "source": [
    "name  age  gender  occupation\n",
    "3   Person4   38  Female  Programmer\n",
    "4   Person5   34    Male     Manager\n",
    "5   Person6   35  Female     Analyst\n",
    "7   Person8   47  Female     Manager\n",
    "8   Person9   39    Male     Analyst\n",
    "9  Person10   46  Female  Programmer"
   ]
  }
 ],
 "metadata": {
  "kernelspec": {
   "display_name": "anaconda-panel-2023.05-py310",
   "language": "python",
   "name": "conda-env-anaconda-panel-2023.05-py310-py"
  },
  "language_info": {
   "codemirror_mode": {
    "name": "ipython",
    "version": 3
   },
   "file_extension": ".py",
   "mimetype": "text/x-python",
   "name": "python",
   "nbconvert_exporter": "python",
   "pygments_lexer": "ipython3",
   "version": "3.11.5"
  }
 },
 "nbformat": 4,
 "nbformat_minor": 5
}
